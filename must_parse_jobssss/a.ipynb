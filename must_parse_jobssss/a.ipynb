{
 "cells": [
  {
   "cell_type": "code",
   "execution_count": null,
   "metadata": {},
   "outputs": [],
   "source": []
  },
  {
   "cell_type": "code",
   "execution_count": 1,
   "metadata": {},
   "outputs": [
    {
     "ename": "ModuleNotFoundError",
     "evalue": "No module named 'basic_plan'",
     "output_type": "error",
     "traceback": [
      "\u001b[1;31m---------------------------------------------------------------------------\u001b[0m",
      "\u001b[1;31mModuleNotFoundError\u001b[0m                       Traceback (most recent call last)",
      "Cell \u001b[1;32mIn[1], line 10\u001b[0m\n\u001b[0;32m      8\u001b[0m \u001b[38;5;28;01mfrom\u001b[39;00m \u001b[38;5;21;01mselenium\u001b[39;00m\u001b[38;5;21;01m.\u001b[39;00m\u001b[38;5;21;01mwebdriver\u001b[39;00m\u001b[38;5;21;01m.\u001b[39;00m\u001b[38;5;21;01msupport\u001b[39;00m\u001b[38;5;21;01m.\u001b[39;00m\u001b[38;5;21;01mui\u001b[39;00m \u001b[38;5;28;01mimport\u001b[39;00m WebDriverWait\n\u001b[0;32m      9\u001b[0m \u001b[38;5;28;01mfrom\u001b[39;00m \u001b[38;5;21;01mselenium\u001b[39;00m \u001b[38;5;28;01mimport\u001b[39;00m webdriver\n\u001b[1;32m---> 10\u001b[0m \u001b[38;5;28;01mfrom\u001b[39;00m \u001b[38;5;21;01mbasic_plan\u001b[39;00m\u001b[38;5;21;01m.\u001b[39;00m\u001b[38;5;21;01mconfig_reader\u001b[39;00m \u001b[38;5;28;01mimport\u001b[39;00m readconfig_file\n\u001b[0;32m     12\u001b[0m \u001b[38;5;28;01mclass\u001b[39;00m \u001b[38;5;21;01mJobActions\u001b[39;00m:\n\u001b[0;32m     13\u001b[0m     \u001b[38;5;28;01mdef\u001b[39;00m \u001b[38;5;21m__init__\u001b[39m(\u001b[38;5;28mself\u001b[39m):\n",
      "\u001b[1;31mModuleNotFoundError\u001b[0m: No module named 'basic_plan'"
     ]
    }
   ],
   "source": [
    "# post_new_job_file.py\n",
    "\n",
    "import os\n",
    "import time\n",
    "import pyautogui\n",
    "from selenium.webdriver.common.by import By\n",
    "from selenium.webdriver.support import expected_conditions as EC\n",
    "from selenium.webdriver.support.ui import WebDriverWait\n",
    "from selenium import webdriver\n",
    "from basic_plan.config_reader import readconfig_file\n",
    "\n",
    "class JobActions:\n",
    "    def __init__(self):\n",
    "        self.driver = None\n",
    "\n",
    "    def setup_driver(self):\n",
    "        self.driver = webdriver.Chrome()\n",
    "        self.driver.maximize_window()\n",
    "\n",
    "    def teardown_driver(self):\n",
    "        self.driver.quit()\n",
    "\n",
    "    def login(self):\n",
    "        wait = WebDriverWait(self.driver, 10)\n",
    "\n",
    "        self.driver.get(readconfig_file(\"Links\", 'google_url'))\n",
    "        self.driver.get(readconfig_file(\"Links\", 'Login_Url'))\n",
    "\n",
    "        email_element = wait.until(EC.element_to_be_clickable((By.CSS_SELECTOR, \".w-full:nth-child(4)\")))\n",
    "        email_element.click()\n",
    "\n",
    "        send_email_element = wait.until(EC.element_to_be_clickable((By.CSS_SELECTOR, \".w-full:nth-child(4)\")))\n",
    "        send_email_element.send_keys(readconfig_file(\"Login_Credentials\", 'Login_username'))\n",
    "\n",
    "        password_element = wait.until(EC.element_to_be_clickable((By.CSS_SELECTOR, \".border:nth-child(1)\")))\n",
    "        password_element.click()\n",
    "\n",
    "        send_password_element = wait.until(EC.element_to_be_clickable((By.CSS_SELECTOR, \".border:nth-child(1)\")))\n",
    "        send_password_element.send_keys(readconfig_file(\"Login_Credentials\", 'Login_password'))\n",
    "\n",
    "        show_password = wait.until(EC.element_to_be_clickable((By.CSS_SELECTOR, \".absolute > svg\")))\n",
    "        show_password.click()\n",
    "\n",
    "        login_button = wait.until(EC.element_to_be_clickable((By.CSS_SELECTOR, \".btn-primary\")))\n",
    "        login_button.click()\n",
    "\n",
    "        WebDriverWait(self.driver, 20).until(EC.presence_of_element_located((By.XPATH, \"//span[contains(.,\\'Post new job\\')]\")))\n",
    "\n",
    "    def post_new_job_must_parse(self, file_path_exist=True, file_path=''):\n",
    "        self.driver.get(readconfig_file(\"Links\", 'Home_page'))\n",
    "\n",
    "        # Select the element by its text content\n",
    "        element = WebDriverWait(self.driver, 20).until(\n",
    "            EC.element_to_be_clickable((By.XPATH, '//*[text()=\"Post new job\"]'))\n",
    "        )\n",
    "        element.click()\n",
    "\n",
    "        upload = WebDriverWait(self.driver, 10).until(\n",
    "            EC.element_to_be_clickable((By.CLASS_NAME, \"upload-document-first-state\")))\n",
    "        upload.click()\n",
    "\n",
    "        if file_path_exist:\n",
    "            time.sleep(2)\n",
    "            pyautogui.write(file_path)\n",
    "            pyautogui.press(\"enter\")\n",
    "\n",
    "            wait = WebDriverWait(self.driver, 80)\n",
    "            autofill_button = wait.until(\n",
    "                EC.presence_of_element_located((By.XPATH, \"//button[@type='button']/span[text()='Click to autofill']\"))\n",
    "            )\n",
    "\n",
    "            document_name_element = WebDriverWait(self.driver, 10).until(\n",
    "                EC.element_to_be_clickable((By.CLASS_NAME, \"uper-text\")))\n",
    "            document_name = document_name_element.text\n",
    "\n",
    "            click_to_fill = WebDriverWait(self.driver, 10).until(\n",
    "                EC.element_to_be_clickable((By.XPATH, \"//button[@type='button']/span[text()='Click to autofill']\")))\n",
    "            click_to_fill.click()\n",
    "\n",
    "            autofill_button = WebDriverWait(self.driver, 310).until(\n",
    "                EC.presence_of_element_located(\n",
    "                    (By.XPATH, \"//button[@type='button']/span[text()='Parsed']\")))\n",
    "            \n",
    "\n",
    "            if \"Parsed\" in autofill_button.text:\n",
    "\n",
    "\n",
    "\n",
    "                Company_name_element = WebDriverWait(self.driver, 2).until(EC.presence_of_element_located((By.XPATH, \"//input[@name='company']\")))\n",
    "\n",
    "                # Locate the input element by its name\n",
    "                job_title_element = WebDriverWait(self.driver, 2).until(EC.presence_of_element_located((By.XPATH, \"//input[@name='position']\")))\n",
    "\n",
    "\n",
    "                # Get the value attribute\n",
    "                Company_name = Company_name_element.get_attribute(\"value\")\n",
    "                # Get the value attribute\n",
    "                job_title = job_title_element.get_attribute(\"value\")\n",
    "\n",
    "                \n",
    "                save_and_exit = WebDriverWait(self.driver, 10).until(\n",
    "                    EC.element_to_be_clickable((By.XPATH, '//button[text()=\"Review post\"]')))\n",
    "                save_and_exit.click()\n",
    "\n",
    "                Publish = WebDriverWait(self.driver, 10).until(\n",
    "                    EC.element_to_be_clickable((By.XPATH, '//button[text()=\"Publish this job\"]')))\n",
    "                Publish.click()\n",
    "\n",
    "                view = WebDriverWait(self.driver, 10).until(\n",
    "                    EC.element_to_be_clickable((By.XPATH, '//button[text()=\"View\"]')))\n",
    "                view.click()\n",
    "\n",
    "                menu = WebDriverWait(self.driver, 10).until(\n",
    "                    EC.element_to_be_clickable((By.XPATH,\n",
    "                                                \"/html/body/div/div[1]/div/div/main/div[1]/div/div[1]/div[2]/button\")))\n",
    "\n",
    "                # Click the button\n",
    "                menu.click()\n",
    "\n",
    "                delete_job_element = WebDriverWait(self.driver, 10).until(\n",
    "                    EC.element_to_be_clickable((By.XPATH, f\"//li[text()='Delete job']\")))\n",
    "\n",
    "                time.sleep(2)\n",
    "\n",
    "                # Click the \"Edit job\" element\n",
    "                delete_job_element.click()\n",
    "\n",
    "                confirm_button = WebDriverWait(self.driver, 10).until(\n",
    "                    EC.element_to_be_clickable((By.XPATH, '//*[@id=\"custom-modal\"]/div/div/div/button[1]')))\n",
    "\n",
    "                time.sleep(2)\n",
    "                # Click the \"Confirm\" button\n",
    "                confirm_button.click()\n",
    "\n",
    "                time.sleep(5)\n",
    "\n",
    "    def get_file_paths(self, folder_path):\n",
    "      file_paths = []\n",
    "      if os.path.exists(folder_path) and os.path.isdir(folder_path):\n",
    "          files = os.listdir(folder_path)\n",
    "          file_paths = [rf'{folder_path}\\{file}' for file in files]\n",
    "      return file_paths\n",
    "\n"
   ]
  },
  {
   "cell_type": "code",
   "execution_count": 38,
   "metadata": {},
   "outputs": [],
   "source": [
    "driver = webdriver.Chrome()"
   ]
  },
  {
   "cell_type": "code",
   "execution_count": 39,
   "metadata": {},
   "outputs": [],
   "source": [
    "driver.get('https://test.app.sproutsai.com/login')"
   ]
  },
  {
   "cell_type": "code",
   "execution_count": 40,
   "metadata": {},
   "outputs": [
    {
     "data": {
      "text/plain": [
       "'Microsoft'"
      ]
     },
     "execution_count": 40,
     "metadata": {},
     "output_type": "execute_result"
    }
   ],
   "source": [
    "# Locate the input element by its name\n",
    "Company_name_element = WebDriverWait(driver, 2).until(EC.presence_of_element_located((By.XPATH, \"//input[@name='company']\")))\n",
    "\n",
    "# Get the value attribute\n",
    "Company_name = Company_name_element.get_attribute(\"value\")\n",
    "\n",
    "Company_name"
   ]
  },
  {
   "cell_type": "code",
   "execution_count": 41,
   "metadata": {},
   "outputs": [
    {
     "data": {
      "text/plain": [
       "'Research Intern - Azure Systems Research'"
      ]
     },
     "execution_count": 41,
     "metadata": {},
     "output_type": "execute_result"
    }
   ],
   "source": [
    "# Locate the input element by its name\n",
    "job_title_element = WebDriverWait(driver, 2).until(EC.presence_of_element_located((By.XPATH, \"//input[@name='position']\")))\n",
    "\n",
    "# Get the value attribute\n",
    "job_title = job_title_element.get_attribute(\"value\")\n",
    "job_title"
   ]
  },
  {
   "cell_type": "code",
   "execution_count": 42,
   "metadata": {},
   "outputs": [
    {
     "name": "stdout",
     "output_type": "stream",
     "text": [
      "intern\n"
     ]
    }
   ],
   "source": [
    "# Assuming you have instantiated a WebDriver instance named 'driver'\n",
    "\n",
    "# Wait for the container element to be present\n",
    "container = WebDriverWait(driver, 10).until(\n",
    "    EC.presence_of_element_located((By.CLASS_NAME, 'compensation-tags'))\n",
    ")\n",
    "\n",
    "# Find all buttons within the container with a style attribute containing 'background'\n",
    "highlighted_buttons = container.find_elements(By.CSS_SELECTOR, 'button[style*=\"background\"]')\n",
    "\n",
    "# Filter and extract information only for elements with a specific color\n",
    "target_color = 'rgb(0, 185, 141)'\n",
    "highlighted_elements = []\n",
    "\n",
    "for button in highlighted_buttons:\n",
    "    background_color = button.get_attribute('style').split('background:')[1].split(';')[0].strip()\n",
    "    \n",
    "    if background_color == target_color:\n",
    "        element_info = {\n",
    "            'text': button.find_element(By.CSS_SELECTOR, 'span').text.strip(),\n",
    "            \n",
    "        }\n",
    "        highlighted_elements.append(element_info)\n",
    "\n",
    "# Print the extracted information\n",
    "for element in highlighted_elements:\n",
    "    print(element['text'])"
   ]
  },
  {
   "cell_type": "code",
   "execution_count": 43,
   "metadata": {},
   "outputs": [
    {
     "name": "stdout",
     "output_type": "stream",
     "text": [
      "Hybrid\n"
     ]
    }
   ],
   "source": [
    "from selenium import webdriver\n",
    "from selenium.webdriver.common.by import By\n",
    "from selenium.webdriver.support.ui import WebDriverWait\n",
    "from selenium.webdriver.support import expected_conditions as EC\n",
    "\n",
    "# Assuming you have instantiated a WebDriver instance named 'driver'\n",
    "\n",
    "# Wait for the container element to be present\n",
    "container = WebDriverWait(driver, 10).until(\n",
    "    EC.presence_of_element_located((By.XPATH, \"(//div[@class='w-full compensation-tags flex flex-wrap gap-[6px]'])[3]\"))\n",
    ")\n",
    "\n",
    "# Find all buttons within the container\n",
    "buttons = container.find_elements(By.CSS_SELECTOR, 'button')\n",
    "\n",
    "# Filter buttons based on background color 'rgb(0, 185, 141)'\n",
    "filtered_buttons = [button for button in buttons if 'background: rgb(0, 185, 141)' in button.get_attribute('style')]\n",
    "\n",
    "# Extract the text from each filtered button\n",
    "button_text = [button.find_element(By.CSS_SELECTOR, 'span').text.strip() for button in filtered_buttons]\n",
    "\n",
    "# Print the extracted text\n",
    "for text in button_text:\n",
    "    print(text)\n"
   ]
  },
  {
   "cell_type": "code",
   "execution_count": 44,
   "metadata": {},
   "outputs": [
    {
     "name": "stdout",
     "output_type": "stream",
     "text": [
      "Redmond, WA\n"
     ]
    }
   ],
   "source": [
    "from selenium import webdriver\n",
    "from selenium.webdriver.common.by import By\n",
    "from selenium.webdriver.support.ui import WebDriverWait\n",
    "from selenium.webdriver.support import expected_conditions as EC\n",
    "\n",
    "# Assuming you have instantiated a WebDriver instance named 'driver'\n",
    "\n",
    "# Wait for the container element to be present\n",
    "container = WebDriverWait(driver, 10).until(\n",
    "    EC.presence_of_element_located((By.XPATH, \"(//div[@class='w-full compensation-tags flex flex-wrap gap-[6px]'])[4]\"))\n",
    ")\n",
    "\n",
    "# Find all buttons within the container\n",
    "buttons = container.find_elements(By.CSS_SELECTOR, 'button')\n",
    "\n",
    "# Extract the text from each button\n",
    "button_text = [button.find_element(By.CSS_SELECTOR, 'span').text.strip() for button in buttons]\n",
    "\n",
    "# Print the extracted text\n",
    "for text in button_text:\n",
    "    print(text)\n"
   ]
  },
  {
   "cell_type": "code",
   "execution_count": 46,
   "metadata": {},
   "outputs": [
    {
     "name": "stdout",
     "output_type": "stream",
     "text": [
      "Engineering and Development\n",
      "Design and Creative\n"
     ]
    }
   ],
   "source": [
    "from selenium import webdriver\n",
    "from selenium.webdriver.common.by import By\n",
    "from selenium.webdriver.support.ui import WebDriverWait\n",
    "from selenium.webdriver.support import expected_conditions as EC\n",
    "\n",
    "# Assuming you have instantiated a WebDriver instance named 'driver'\n",
    "\n",
    "# Wait for the container element to be present\n",
    "container = WebDriverWait(driver, 10).until(\n",
    "    EC.presence_of_element_located((By.XPATH, \"(//div[@class='w-full compensation-tags flex flex-wrap gap-[6px]'])[2]\"))\n",
    ")\n",
    "\n",
    "# Find all buttons within the container\n",
    "buttons = container.find_elements(By.CSS_SELECTOR, 'button')\n",
    "\n",
    "# Filter buttons based on background color\n",
    "matching_buttons = [button for button in buttons if 'background: rgb(0, 185, 141)' in button.get_attribute('style')]\n",
    "\n",
    "# Extract the text from each matching button\n",
    "button_text = [button.find_element(By.CSS_SELECTOR, 'span').text.strip() for button in matching_buttons]\n",
    "\n",
    "# Print the extracted text\n",
    "for text in button_text:\n",
    "    print(text)\n"
   ]
  },
  {
   "cell_type": "code",
   "execution_count": 48,
   "metadata": {},
   "outputs": [
    {
     "name": "stdout",
     "output_type": "stream",
     "text": [
      "heading Communication, Ethics, and Team Collaboration\n",
      "skill Collaboration\n",
      "skill Cross-group collaboration\n",
      "skill Excellent interpersonal skills\n",
      "heading Multilingual Skills and Cultural Competency\n",
      "skill Cross-culture collaboration\n",
      "heading Personal Development Skills\n",
      "skill Unconventional thinking\n",
      "skill Creative and innovative solutions\n",
      "heading Research Communication and Reporting Skills\n",
      "skill Peer-reviewed publication\n",
      "heading Engineering, Environmental Sustainability and Industrial Manufacturing Skills\n",
      "skill Power efficiency and sustainability\n",
      "heading Cloud Computing and Platform Services\n",
      "skill Serverless computing\n",
      "heading Misc\n"
     ]
    }
   ],
   "source": [
    "from selenium.common.exceptions import NoSuchElementException\n",
    "\n",
    "# Find all \"section-skills\" elements\n",
    "skills_sections = WebDriverWait(driver, 2).until(EC.presence_of_all_elements_located((By.CLASS_NAME, \"section-skills\")))\n",
    "\n",
    "# Iterate through each skills section and retrieve heading and skills\n",
    "for skills_section in skills_sections:\n",
    "\n",
    "    try:\n",
    "        # Find the heading element within the current skills section\n",
    "        heading_element = skills_section.find_element(By.CSS_SELECTOR, 'input[type=\"text\"][required]')\n",
    "        \n",
    "        # Extract and print the heading of the current section\n",
    "        heading = heading_element.get_attribute(\"value\")\n",
    "        print('heading',heading)\n",
    "        # Find all skill elements within the current skills section\n",
    "        skill_elements = skills_section.find_elements(By.CLASS_NAME, \"auto-complete-input\")\n",
    "        \n",
    "        # Extract and print the skills within the current section\n",
    "        skills = [element.get_attribute(\"value\") for element in skill_elements]\n",
    "        for skill in skills:\n",
    "            print('skill',skill)\n",
    "            \n",
    "    except NoSuchElementException:\n",
    "        pass"
   ]
  },
  {
   "cell_type": "code",
   "execution_count": 49,
   "metadata": {},
   "outputs": [
    {
     "name": "stdout",
     "output_type": "stream",
     "text": [
      "Microsoft\n",
      "Research Intern - Azure Systems Research\n"
     ]
    }
   ],
   "source": [
    "from selenium.webdriver.common.by import By\n",
    "from selenium.webdriver.support.ui import WebDriverWait\n",
    "from selenium.webdriver.support import expected_conditions as EC\n",
    "\n",
    "def get_input_value_by_name(driver, name):\n",
    "    element = WebDriverWait(driver, 2).until(EC.presence_of_element_located((By.XPATH, f\"//input[@name='{name}']\")))\n",
    "    return element.get_attribute(\"value\")\n",
    "\n",
    "# Usage example\n",
    "company_name = get_input_value_by_name(driver, 'company')\n",
    "print(company_name)\n",
    "\n",
    "job_title = get_input_value_by_name(driver, 'position')\n",
    "print(job_title)\n"
   ]
  },
  {
   "cell_type": "code",
   "execution_count": 52,
   "metadata": {},
   "outputs": [
    {
     "name": "stdout",
     "output_type": "stream",
     "text": [
      "Hybrid\n"
     ]
    }
   ],
   "source": [
    "from selenium.webdriver.common.by import By\n",
    "from selenium.webdriver.support.ui import WebDriverWait\n",
    "from selenium.webdriver.support import expected_conditions as EC\n",
    "\n",
    "def extract_highlighted_elements(driver, xpath, target_color):\n",
    "    container = WebDriverWait(driver, 10).until(EC.presence_of_element_located((By.XPATH, xpath)))\n",
    "    buttons = container.find_elements(By.CSS_SELECTOR, 'button[style*=\"background\"]')\n",
    "    \n",
    "    highlighted_elements = []\n",
    "\n",
    "    for button in buttons:\n",
    "        background_color = button.get_attribute('style').split('background:')[1].split(';')[0].strip()\n",
    "\n",
    "        if background_color == target_color:\n",
    "            element_info = {\n",
    "                'text': button.find_element(By.CSS_SELECTOR, 'span').text.strip(),\n",
    "            }\n",
    "            highlighted_elements.append(element_info)\n",
    "\n",
    "    return highlighted_elements\n",
    "\n",
    "# Usage example\n",
    "highlighted_elements = extract_highlighted_elements(driver, \"(//div[@class='w-full compensation-tags flex flex-wrap gap-[6px]'])[3]\", 'rgb(0, 185, 141)')\n",
    "for element in highlighted_elements:\n",
    "    print(element['text'])\n"
   ]
  },
  {
   "cell_type": "code",
   "execution_count": 53,
   "metadata": {},
   "outputs": [
    {
     "name": "stdout",
     "output_type": "stream",
     "text": [
      "intern\n"
     ]
    }
   ],
   "source": [
    "highlighted_elements = extract_highlighted_elements(driver, \"(//div[@class='w-full compensation-tags flex flex-wrap gap-[6px]'])[1]\", 'rgb(0, 185, 141)')\n",
    "for element in highlighted_elements:\n",
    "    print(element['text'])"
   ]
  },
  {
   "cell_type": "code",
   "execution_count": 54,
   "metadata": {},
   "outputs": [
    {
     "name": "stdout",
     "output_type": "stream",
     "text": [
      "Engineering and Development\n",
      "Design and Creative\n"
     ]
    }
   ],
   "source": [
    "highlighted_elements = extract_highlighted_elements(driver, \"(//div[@class='w-full compensation-tags flex flex-wrap gap-[6px]'])[2]\", 'rgb(0, 185, 141)')\n",
    "for element in highlighted_elements:\n",
    "    print(element['text'])"
   ]
  },
  {
   "cell_type": "code",
   "execution_count": 55,
   "metadata": {},
   "outputs": [
    {
     "name": "stdout",
     "output_type": "stream",
     "text": [
      "Redmond, WA\n"
     ]
    }
   ],
   "source": [
    "highlighted_elements = extract_highlighted_elements(driver, \"(//div[@class='w-full compensation-tags flex flex-wrap gap-[6px]'])[4]\", 'rgb(0, 185, 141)')\n",
    "for element in highlighted_elements:\n",
    "    print(element['text'])"
   ]
  },
  {
   "cell_type": "code",
   "execution_count": 56,
   "metadata": {},
   "outputs": [
    {
     "name": "stdout",
     "output_type": "stream",
     "text": [
      "Heading: Communication, Ethics, and Team Collaboration\n",
      "Skills: Collaboration, Cross-group collaboration, Excellent interpersonal skills\n",
      "Heading: Multilingual Skills and Cultural Competency\n",
      "Skills: Cross-culture collaboration\n",
      "Heading: Personal Development Skills\n",
      "Skills: Unconventional thinking, Creative and innovative solutions\n",
      "Heading: Research Communication and Reporting Skills\n",
      "Skills: Peer-reviewed publication\n",
      "Heading: Engineering, Environmental Sustainability and Industrial Manufacturing Skills\n",
      "Skills: Power efficiency and sustainability\n",
      "Heading: Cloud Computing and Platform Services\n",
      "Skills: Serverless computing\n",
      "Heading: Misc\n",
      "Skills: \n"
     ]
    }
   ],
   "source": [
    "from selenium.webdriver.common.by import By\n",
    "from selenium.webdriver.support.ui import WebDriverWait\n",
    "from selenium.webdriver.support import expected_conditions as EC\n",
    "from selenium.common.exceptions import NoSuchElementException\n",
    "\n",
    "def get_skills_sections(driver):\n",
    "    try:\n",
    "        # Find all \"section-skills\" elements\n",
    "        skills_sections = WebDriverWait(driver, 10).until(EC.presence_of_all_elements_located((By.CLASS_NAME, \"section-skills\")))\n",
    "        \n",
    "        for skills_section in skills_sections:\n",
    "            try:\n",
    "                # Find the heading element within the current skills section\n",
    "                heading_element = skills_section.find_element(By.CSS_SELECTOR, 'input[type=\"text\"][required]')\n",
    "\n",
    "                # Extract and print the heading of the current section\n",
    "                heading = heading_element.get_attribute(\"value\")\n",
    "                print('Heading:', heading)\n",
    "\n",
    "                # Find all skill elements within the current skills section\n",
    "                skill_elements = skills_section.find_elements(By.CLASS_NAME, \"auto-complete-input\")\n",
    "\n",
    "                # Extract and print the skills within the current section\n",
    "                skills = [element.get_attribute(\"value\") for element in skill_elements]\n",
    "                print('Skills:', ', '.join(skills))\n",
    "                \n",
    "            except NoSuchElementException:\n",
    "                pass\n",
    "                \n",
    "    except NoSuchElementException:\n",
    "        print(\"No skills sections found.\")\n",
    "\n",
    "# Usage example\n",
    "get_skills_sections(driver)\n"
   ]
  },
  {
   "cell_type": "code",
   "execution_count": null,
   "metadata": {},
   "outputs": [],
   "source": []
  }
 ],
 "metadata": {
  "kernelspec": {
   "display_name": "env",
   "language": "python",
   "name": "python3"
  },
  "language_info": {
   "codemirror_mode": {
    "name": "ipython",
    "version": 3
   },
   "file_extension": ".py",
   "mimetype": "text/x-python",
   "name": "python",
   "nbconvert_exporter": "python",
   "pygments_lexer": "ipython3",
   "version": "3.11.4"
  }
 },
 "nbformat": 4,
 "nbformat_minor": 2
}
